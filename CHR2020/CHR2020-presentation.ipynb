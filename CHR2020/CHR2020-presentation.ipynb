{
 "cells": [
  {
   "cell_type": "markdown",
   "metadata": {
    "slideshow": {
     "slide_type": "slide"
    }
   },
   "source": [
    "<div align=\"center\"><h1>Between Flexibility and Universality</h1>\n",
    "<h3>Combining TAGML and XML to Enhance the Modeling of Cultural Heritage Text</h3>\n",
    "<br/>\n",
    "<h4>Elli Bleeker, Bram Buitendijk, Ronald Haentjens Dekker\n",
    "    <br/> ---\n",
    "    <br/>R&amp;D group, Royal Netherlands Academy of Arts and Sciences - Humanities Cluster</h4>\n",
    "    <h6>Computational Humanities Research workshop, November 18-20, 2020</h6>\n",
    "    <img align=\"right\" width=\"100\" height=\"100\" src=\"images/logo-huc.png\">\n",
    "    <br/>\n",
    "    <img align=\"right\" width=\"100\" height=\"100\" src=\"images/CC-BY_icon.svg.png\">\n",
    "</div>"
   ]
  },
  {
   "cell_type": "markdown",
   "metadata": {
    "slideshow": {
     "slide_type": "notes"
    }
   },
   "source": [
    "The background / context of our research: digital scholarly editing and TAG"
   ]
  },
  {
   "cell_type": "markdown",
   "metadata": {
    "slideshow": {
     "slide_type": "subslide"
    }
   },
   "source": [
    "# Scholarly editing in the 2020s\n",
    "\n",
    "## #goals:\n",
    "\n",
    "- Modeling cultural heritage texts from different research perspectives\n",
    "- Modeling overlapping, nonlinear or discontinuous structures;\n",
    "- Easy exchange / reuse of TEI-encoded text files;\n",
    "- Digital edition as a flexible research environment."
   ]
  },
  {
   "cell_type": "markdown",
   "metadata": {
    "slideshow": {
     "slide_type": "slide"
    }
   },
   "source": [
    "# Text-As-Graph (TAG) \n",
    "\n",
    "- Under development since 2017 at the R&D group of the Royal Netherlands Academy of Arts and Sciences\n",
    "- Datamodel: Multi-Colored Tree (MCT)\n",
    "- Reference implementation: _Alexandria_ (executes on the command line)\n",
    "- Syntax: TAGML"
   ]
  },
  {
   "cell_type": "markdown",
   "metadata": {
    "slideshow": {
     "slide_type": "subslide"
    }
   },
   "source": [
    "### Research question\n",
    "How can we effectively support _and advance_ the research of a scholarly editor using computational methods?"
   ]
  },
  {
   "cell_type": "markdown",
   "metadata": {
    "slideshow": {
     "slide_type": "fragment"
    }
   },
   "source": [
    "### Approach\n",
    "1. Model the editorial workflow as a computational pipeline;\n",
    "2. Focus on handling individual steps rather than supplying for the whole pipeline at once;\n",
    "3. Decide whether a step can be automated or whether editorial (human) input is required"
   ]
  },
  {
   "cell_type": "markdown",
   "metadata": {
    "slideshow": {
     "slide_type": "subslide"
    }
   },
   "source": [
    "# 1. Conceptual workflow of the scholarly editor"
   ]
  },
  {
   "cell_type": "markdown",
   "metadata": {
    "slideshow": {
     "slide_type": "notes"
    }
   },
   "source": [
    "Visualization of the workflow of a digital scholarly editor, illustrating how the intellectual activitiesof the editor (upper row) affect their actions (middle row) and the output of these actions (lower row):"
   ]
  },
  {
   "cell_type": "markdown",
   "metadata": {
    "slideshow": {
     "slide_type": "subslide"
    }
   },
   "source": [
    "<img src=\"images/CHR2020-conceptual-workflow.png\">"
   ]
  },
  {
   "cell_type": "markdown",
   "metadata": {
    "slideshow": {
     "slide_type": "notes"
    }
   },
   "source": [
    "We focus on the encodingstep, showing how TAG allows for the encoding of multiple, co-existing research perspectives on the source text, and on how these encoded documents can be exported to XML for analysis or publication:"
   ]
  },
  {
   "cell_type": "markdown",
   "metadata": {
    "slideshow": {
     "slide_type": "subslide"
    }
   },
   "source": [
    "<img src=\"images/CHR2020-conceptual-workflow_2.png\">"
   ]
  },
  {
   "cell_type": "markdown",
   "metadata": {
    "slideshow": {
     "slide_type": "slide"
    }
   },
   "source": [
    "# 2. Workflow component: encoding"
   ]
  },
  {
   "cell_type": "markdown",
   "metadata": {
    "slideshow": {
     "slide_type": "subslide"
    }
   },
   "source": [
    "### Research question\n",
    "How can scholarly editors model a text from different research perspectives, producing a result that can be easily repurposed?"
   ]
  },
  {
   "cell_type": "markdown",
   "metadata": {
    "slideshow": {
     "slide_type": "notes"
    }
   },
   "source": [
    "What we propose can be considered \"the best of both worlds\": TAGML offers the most **flexibility** in text modeling; while XML offers the **universality** in that most text analysis and publication tools accept XML as input format. "
   ]
  },
  {
   "cell_type": "markdown",
   "metadata": {
    "slideshow": {
     "slide_type": "fragment"
    }
   },
   "source": [
    "### \"Flexible\" \n",
    "TAGML to model the text as a hypergraph, supporting overlapping, nonlinear and discontinuous structures"
   ]
  },
  {
   "cell_type": "markdown",
   "metadata": {
    "slideshow": {
     "slide_type": "fragment"
    }
   },
   "source": [
    "### \"Universal\"\n",
    "User-guided TAGML to XML export"
   ]
  },
  {
   "cell_type": "markdown",
   "metadata": {
    "slideshow": {
     "slide_type": "subslide"
    }
   },
   "source": [
    "<img src=\"images/min-ez-1954-fragment.png\">\n",
    "<h7>Source: Fragment from the minutes of the ministry of Economic Affairs about emigration, 1954. Located in the Dutch National Archive.</h7>"
   ]
  },
  {
   "cell_type": "markdown",
   "metadata": {
    "slideshow": {
     "slide_type": "subslide"
    }
   },
   "source": [
    "##  TAGML:\n",
    "\n",
    "### Layers\n",
    "- Sets of markup elements;\n",
    "- Markup elements are hierarchically ordered within each layer;\n",
    "- Layers can overlap\n",
    "\n",
    "### Views\n",
    "- JSON documents describing which markup elements and/or layers to show;\n",
    "- Filter the information from a TAGML document "
   ]
  },
  {
   "cell_type": "markdown",
   "metadata": {
    "slideshow": {
     "slide_type": "skip"
    }
   },
   "source": [
    "<img src=\"images/tagml-minez-fragment-1954.png\">"
   ]
  },
  {
   "cell_type": "markdown",
   "metadata": {
    "slideshow": {
     "slide_type": "skip"
    }
   },
   "source": [
    "[**Now set to \"skip\" because the screenshot with the syntax highlighting is more insightful**]\n",
    "\n",
    "```\n",
    "[!{\n",
    "  \":ontology\": {\n",
    "    \"root\": \"tagml\",\n",
    "    \"elements\": {\n",
    "      \"tagml\": {\n",
    "        \"description\": \"root element and selected syntax\"\n",
    "      },\n",
    "      \"l\": {\n",
    "        \"description\": \"line on document pages\"\n",
    "      },\n",
    "      \"s\": {\n",
    "        \"description\": \"sentence in text\"\n",
    "      }\n",
    "    }\n",
    "  }\n",
    "}!]\n",
    "\n",
    "[tagml|+A,+B>[l|A>[s|B>Het is duidelijk, dat de onder deze<l][l|A>aantallen vallende beroepsbeoefenaren niet alle als<l][l|A>\"moeilijk misbaar\" kunnen worden aangemerkt.<s]<l]<tagml]\n",
    "```"
   ]
  },
  {
   "cell_type": "code",
   "execution_count": 1,
   "metadata": {
    "slideshow": {
     "slide_type": "skip"
    }
   },
   "outputs": [
    {
     "name": "stdout",
     "output_type": "stream",
     "text": [
      "Welcome to TAG\n",
      "Using GraphViz: dot - graphviz version 2.44.1 (20200629.0846)\n",
      "\n"
     ]
    },
    {
     "data": {
      "text/plain": [
       "Range{1:1 - 16:4} [!{\":ontology\":{\"root\":\"tagml\",\"elements\":{\"tagml\":{\"description\":\"root element and selected syntax\"},\"l\":{\"description\":\"line on document pages\"},\"s\":{\"description\":\"sentence in text\"}}}}!]\n",
       "Range{18:1 - 18:14} [tagml|+A,+B>\n",
       "Range{18:14 - 18:19} [l|A>\n",
       "Range{18:19 - 18:24} [s|B>\n",
       "Range{18:24 - 18:59} Het is duidelijk, dat de onder deze\n",
       "Range{18:59 - 18:62} <l]\n",
       "Range{18:62 - 18:67} [l|A>\n",
       "Range{18:67 - 18:118} aantallen vallende beroepsbeoefenaren niet alle als\n",
       "Range{18:118 - 18:121} <l]\n",
       "Range{18:121 - 18:126} [l|A>\n",
       "Range{18:126 - 18:170} \"moeilijk misbaar\" kunnen worden aangemerkt.\n",
       "Range{18:170 - 18:173} <s]\n",
       "Range{18:173 - 18:176} <l]\n",
       "Range{18:176 - 18:183} <tagml]\n",
       "Range{18:176 - 18:183} <tagml]"
      ]
     },
     "execution_count": 1,
     "metadata": {},
     "output_type": "execute_result"
    }
   ],
   "source": [
    "%use tag\n",
    "val tokens = TAG.tokenize(Paths.get(\"tag-for-CHR2.tagml\"))\n",
    "tokens.joinToString(\"\\n\")"
   ]
  },
  {
   "cell_type": "markdown",
   "metadata": {
    "slideshow": {
     "slide_type": "notes"
    }
   },
   "source": [
    "Let's take a look at the MCT of the text, which clearly shows the two overlapping hierarchies of layer A and layer B:"
   ]
  },
  {
   "cell_type": "code",
   "execution_count": 5,
   "metadata": {
    "slideshow": {
     "slide_type": "subslide"
    }
   },
   "outputs": [
    {
     "name": "stdout",
     "output_type": "stream",
     "text": [
      "Markup(tagml|A, B)\n",
      "Markup(l|A)\n",
      "Markup(s|B)\n",
      "Text(Het is duidelijk, dat de onder deze)\n",
      "Markup(l|A)\n",
      "Text(aantallen vallende beroepsbeoefenaren niet alle als)\n",
      "Markup(l|A)\n",
      "Text(\"moeilijk misbaar\" kunnen worden aangemerkt.)\n"
     ]
    },
    {
     "data": {
      "image/svg+xml": [
       "<?xml version=\"1.0\" encoding=\"UTF-8\" standalone=\"no\"?>\n",
       "<!DOCTYPE svg PUBLIC \"-//W3C//DTD SVG 1.1//EN\"\n",
       " \"http://www.w3.org/Graphics/SVG/1.1/DTD/svg11.dtd\">\n",
       "<!-- Generated by graphviz version 2.44.1 (20200629.0846)\n",
       " -->\n",
       "<!-- Title: TextGraph Pages: 1 -->\n",
       "<svg width=\"858pt\" height=\"222pt\"\n",
       " viewBox=\"0.00 0.00 857.50 222.00\" xmlns=\"http://www.w3.org/2000/svg\" xmlns:xlink=\"http://www.w3.org/1999/xlink\">\n",
       "<g id=\"graph0\" class=\"graph\" transform=\"scale(1 1) rotate(0) translate(4 218)\">\n",
       "<title>TextGraph</title>\n",
       "<polygon fill=\"white\" stroke=\"transparent\" points=\"-4,4 -4,-218 853.5,-218 853.5,4 -4,4\"/>\n",
       "<g id=\"clust2\" class=\"cluster\">\n",
       "<title>cluster_0B</title>\n",
       "<path fill=\"none\" stroke=\"blue\" d=\"M342,-154C342,-154 434,-154 434,-154 440,-154 446,-160 446,-166 446,-166 446,-194 446,-194 446,-200 440,-206 434,-206 434,-206 342,-206 342,-206 336,-206 330,-200 330,-194 330,-194 330,-166 330,-166 330,-160 336,-154 342,-154\"/>\n",
       "</g>\n",
       "<!-- t3 -->\n",
       "<g id=\"node1\" class=\"node\">\n",
       "<title>t3</title>\n",
       "<polygon fill=\"white\" stroke=\"black\" points=\"204,-36 0,-36 0,0 204,0 204,-36\"/>\n",
       "<text text-anchor=\"start\" x=\"8\" y=\"-14.3\" font-family=\"Times,serif\" font-size=\"14.00\">Het is duidelijk, dat de onder deze</text>\n",
       "</g>\n",
       "<!-- t5 -->\n",
       "<g id=\"node2\" class=\"node\">\n",
       "<title>t5</title>\n",
       "<polygon fill=\"white\" stroke=\"black\" points=\"532.5,-36 239.5,-36 239.5,0 532.5,0 532.5,-36\"/>\n",
       "<text text-anchor=\"start\" x=\"247.5\" y=\"-14.3\" font-family=\"Times,serif\" font-size=\"14.00\">aantallen vallende beroepsbeoefenaren niet alle als</text>\n",
       "</g>\n",
       "<!-- t3&#45;&gt;t5 -->\n",
       "<g id=\"edge1\" class=\"edge\">\n",
       "<title>t3&#45;&gt;t5</title>\n",
       "<path fill=\"none\" stroke=\"transparent\" d=\"M204.06,-18C215.79,-18 227.52,-18 239.24,-18\"/>\n",
       "</g>\n",
       "<!-- t7 -->\n",
       "<g id=\"node3\" class=\"node\">\n",
       "<title>t7</title>\n",
       "<polygon fill=\"white\" stroke=\"black\" points=\"849.5,-36 568.5,-36 568.5,0 849.5,0 849.5,-36\"/>\n",
       "<text text-anchor=\"start\" x=\"576.5\" y=\"-14.3\" font-family=\"Times,serif\" font-size=\"14.00\">&quot;moeilijk misbaar&quot; kunnen worden aangemerkt.</text>\n",
       "</g>\n",
       "<!-- t5&#45;&gt;t7 -->\n",
       "<g id=\"edge2\" class=\"edge\">\n",
       "<title>t5&#45;&gt;t7</title>\n",
       "<path fill=\"none\" stroke=\"transparent\" d=\"M532.67,-18C544.61,-18 556.55,-18 568.49,-18\"/>\n",
       "</g>\n",
       "<!-- m0 -->\n",
       "<g id=\"node4\" class=\"node\">\n",
       "<title>m0</title>\n",
       "<ellipse fill=\"white\" stroke=\"red\" cx=\"388\" cy=\"-180\" rx=\"50.09\" ry=\"18\"/>\n",
       "<text text-anchor=\"start\" x=\"357.5\" y=\"-176.3\" font-family=\"Times,serif\" font-size=\"14.00\">tagml|A, B</text>\n",
       "</g>\n",
       "<!-- m1 -->\n",
       "<g id=\"node5\" class=\"node\">\n",
       "<title>m1</title>\n",
       "<ellipse fill=\"white\" stroke=\"red\" cx=\"246\" cy=\"-99\" rx=\"27\" ry=\"18\"/>\n",
       "<text text-anchor=\"start\" x=\"237.5\" y=\"-95.3\" font-family=\"Times,serif\" font-size=\"14.00\">l|A</text>\n",
       "</g>\n",
       "<!-- m0&#45;&gt;m1 -->\n",
       "<g id=\"edge3\" class=\"edge\">\n",
       "<title>m0&#45;&gt;m1</title>\n",
       "<path fill=\"none\" stroke=\"red\" d=\"M361.96,-164.51C334.41,-149.19 291.54,-125.33 266.36,-111.33\"/>\n",
       "<text text-anchor=\"start\" x=\"322\" y=\"-137.6\" font-family=\"Times,serif\" font-size=\"8.00\">A</text>\n",
       "</g>\n",
       "<!-- m2 -->\n",
       "<g id=\"node6\" class=\"node\">\n",
       "<title>m2</title>\n",
       "<ellipse fill=\"white\" stroke=\"blue\" cx=\"425\" cy=\"-99\" rx=\"27\" ry=\"18\"/>\n",
       "<text text-anchor=\"start\" x=\"416\" y=\"-95.3\" font-family=\"Times,serif\" font-size=\"14.00\">s|B</text>\n",
       "</g>\n",
       "<!-- m0&#45;&gt;m2 -->\n",
       "<g id=\"edge4\" class=\"edge\">\n",
       "<title>m0&#45;&gt;m2</title>\n",
       "<path fill=\"none\" stroke=\"blue\" d=\"M396.03,-161.86C402.36,-148.33 411.14,-129.6 417.37,-116.3\"/>\n",
       "<text text-anchor=\"start\" x=\"408\" y=\"-137.6\" font-family=\"Times,serif\" font-size=\"8.00\">B</text>\n",
       "</g>\n",
       "<!-- m4 -->\n",
       "<g id=\"node7\" class=\"node\">\n",
       "<title>m4</title>\n",
       "<ellipse fill=\"white\" stroke=\"red\" cx=\"353\" cy=\"-99\" rx=\"27\" ry=\"18\"/>\n",
       "<text text-anchor=\"start\" x=\"344.5\" y=\"-95.3\" font-family=\"Times,serif\" font-size=\"14.00\">l|A</text>\n",
       "</g>\n",
       "<!-- m0&#45;&gt;m4 -->\n",
       "<g id=\"edge5\" class=\"edge\">\n",
       "<title>m0&#45;&gt;m4</title>\n",
       "<path fill=\"none\" stroke=\"red\" d=\"M380.41,-161.86C374.45,-148.43 366.22,-129.85 360.34,-116.57\"/>\n",
       "<text text-anchor=\"start\" x=\"372\" y=\"-137.6\" font-family=\"Times,serif\" font-size=\"8.00\">A</text>\n",
       "</g>\n",
       "<!-- m6 -->\n",
       "<g id=\"node8\" class=\"node\">\n",
       "<title>m6</title>\n",
       "<ellipse fill=\"white\" stroke=\"red\" cx=\"622\" cy=\"-99\" rx=\"27\" ry=\"18\"/>\n",
       "<text text-anchor=\"start\" x=\"613.5\" y=\"-95.3\" font-family=\"Times,serif\" font-size=\"14.00\">l|A</text>\n",
       "</g>\n",
       "<!-- m0&#45;&gt;m6 -->\n",
       "<g id=\"edge6\" class=\"edge\">\n",
       "<title>m0&#45;&gt;m6</title>\n",
       "<path fill=\"none\" stroke=\"red\" d=\"M423.29,-167.09C471.67,-150.75 557.31,-121.84 598.54,-107.92\"/>\n",
       "<text text-anchor=\"start\" x=\"512\" y=\"-137.6\" font-family=\"Times,serif\" font-size=\"8.00\">A</text>\n",
       "</g>\n",
       "<!-- m1&#45;&gt;t3 -->\n",
       "<g id=\"edge7\" class=\"edge\">\n",
       "<title>m1&#45;&gt;t3</title>\n",
       "<path fill=\"none\" stroke=\"red\" d=\"M225.67,-86.85C201.56,-73.62 161.11,-51.43 133.07,-36.04\"/>\n",
       "<text text-anchor=\"start\" x=\"179\" y=\"-56.6\" font-family=\"Times,serif\" font-size=\"8.00\">A</text>\n",
       "</g>\n",
       "<!-- m2&#45;&gt;t3 -->\n",
       "<g id=\"edge8\" class=\"edge\">\n",
       "<title>m2&#45;&gt;t3</title>\n",
       "<path fill=\"none\" stroke=\"blue\" d=\"M410.03,-83.67C398.62,-73.64 382.02,-60.85 365,-54 364.88,-53.95 278.18,-42.42 204.37,-32.61\"/>\n",
       "<text text-anchor=\"start\" x=\"382\" y=\"-56.6\" font-family=\"Times,serif\" font-size=\"8.00\">B</text>\n",
       "</g>\n",
       "<!-- m2&#45;&gt;t5 -->\n",
       "<g id=\"edge9\" class=\"edge\">\n",
       "<title>m2&#45;&gt;t5</title>\n",
       "<path fill=\"none\" stroke=\"blue\" d=\"M416.92,-81.63C410.36,-68.34 401.14,-49.67 394.48,-36.17\"/>\n",
       "<text text-anchor=\"start\" x=\"407\" y=\"-56.6\" font-family=\"Times,serif\" font-size=\"8.00\">B</text>\n",
       "</g>\n",
       "<!-- m2&#45;&gt;t7 -->\n",
       "<g id=\"edge10\" class=\"edge\">\n",
       "<title>m2&#45;&gt;t7</title>\n",
       "<path fill=\"none\" stroke=\"blue\" d=\"M449.71,-91.13C493.5,-78.95 585.94,-53.23 647.77,-36.03\"/>\n",
       "<text text-anchor=\"start\" x=\"575\" y=\"-56.6\" font-family=\"Times,serif\" font-size=\"8.00\">B</text>\n",
       "</g>\n",
       "<!-- m4&#45;&gt;t5 -->\n",
       "<g id=\"edge11\" class=\"edge\">\n",
       "<title>m4&#45;&gt;t5</title>\n",
       "<path fill=\"none\" stroke=\"red\" d=\"M352.76,-80.73C353.18,-72.38 354.52,-62.38 358,-54 360.63,-47.68 364.76,-41.56 369.05,-36.27\"/>\n",
       "<text text-anchor=\"start\" x=\"358\" y=\"-56.6\" font-family=\"Times,serif\" font-size=\"8.00\">A</text>\n",
       "</g>\n",
       "<!-- m6&#45;&gt;t7 -->\n",
       "<g id=\"edge12\" class=\"edge\">\n",
       "<title>m6&#45;&gt;t7</title>\n",
       "<path fill=\"none\" stroke=\"red\" d=\"M637.55,-83.88C652.31,-70.47 674.52,-50.31 690.25,-36.02\"/>\n",
       "<text text-anchor=\"start\" x=\"668\" y=\"-56.6\" font-family=\"Times,serif\" font-size=\"8.00\">A</text>\n",
       "</g>\n",
       "</g>\n",
       "</svg>\n"
      ]
     },
     "execution_count": 5,
     "metadata": {},
     "output_type": "execute_result"
    }
   ],
   "source": [
    "val mct = tokens.asMCT()\n",
    "mct.nodes.forEach{println(it)}\n",
    "mct.show()"
   ]
  },
  {
   "cell_type": "markdown",
   "metadata": {
    "slideshow": {
     "slide_type": "slide"
    }
   },
   "source": [
    "# 3. Exporting with user-input"
   ]
  },
  {
   "cell_type": "markdown",
   "metadata": {
    "slideshow": {
     "slide_type": "notes"
    }
   },
   "source": [
    "With the filtering function of the views, users can _filter_ the (information-rich) TAGML documents:"
   ]
  },
  {
   "cell_type": "markdown",
   "metadata": {
    "slideshow": {
     "slide_type": "subslide"
    }
   },
   "source": [
    "<img src=\"images/workflow-alexandria-CHR2020.png\">"
   ]
  },
  {
   "cell_type": "markdown",
   "metadata": {
    "slideshow": {
     "slide_type": "subslide"
    }
   },
   "source": [
    "<img src=\"images/workflow-alexandria-CHR2020_2.png\">"
   ]
  },
  {
   "cell_type": "markdown",
   "metadata": {
    "slideshow": {
     "slide_type": "subslide"
    }
   },
   "source": [
    "## TAGML-to-XML export\n",
    "\n",
    "Converting TAGML to XML implies converting a Multi-Colored Tree with (potentially) overlapping structures to a single-rooted tree."
   ]
  },
  {
   "cell_type": "markdown",
   "metadata": {
    "slideshow": {
     "slide_type": "subslide"
    }
   },
   "source": [
    "<img src=\"images/tagml-to-xml-export.png\">"
   ]
  },
  {
   "cell_type": "markdown",
   "metadata": {
    "slideshow": {
     "slide_type": "subslide"
    }
   },
   "source": [
    "**[[switch to demo in alexandria]]**"
   ]
  },
  {
   "cell_type": "markdown",
   "metadata": {
    "slideshow": {
     "slide_type": "slide"
    }
   },
   "source": [
    "# Recap\n",
    "\n",
    "- Editorial workflow is conceptualized as a computational pipeline;\n",
    "- Components of the pipeline are addressed individually, for example:\n",
    "    - Cultural heritage texts are **encoded** in TAGML and **exported** to XML;\n",
    "- Editors can guide the export process to fit their research interests:\n",
    "    - What to filter out, what information to keep, which hierarchy is leading?\n",
    "    - Selected elements that do not belong to the leading hierarchy are transformed into Trojan Horse elements"
   ]
  },
  {
   "cell_type": "markdown",
   "metadata": {
    "slideshow": {
     "slide_type": "slide"
    }
   },
   "source": [
    "# More information:\n",
    "\n",
    "- mail us! \n",
    "- check out the TAG website: https://huygensing.github.io/TAG/\n",
    "- take a look at our previous presentations / papers: https://github.com/HuygensING/TAG#presentations-and-publications"
   ]
  }
 ],
 "metadata": {
  "celltoolbar": "Slideshow",
  "kernelspec": {
   "display_name": "Kotlin",
   "language": "kotlin",
   "name": "kotlin"
  },
  "language_info": {
   "codemirror_mode": "text/x-kotlin",
   "file_extension": ".kt",
   "mimetype": "text/x-kotlin",
   "name": "kotlin",
   "pygments_lexer": "kotlin",
   "version": "1.4.20-dev-2342"
  }
 },
 "nbformat": 4,
 "nbformat_minor": 4
}

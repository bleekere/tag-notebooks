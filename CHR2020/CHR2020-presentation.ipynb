{
 "cells": [
  {
   "cell_type": "markdown",
   "metadata": {
    "slideshow": {
     "slide_type": "slide"
    }
   },
   "source": [
    "<div align=\"center\"><h1>Between Flexibility and Universality</h1>\n",
    "<h3>Combining TAGML and XML to Enhance the Modeling of Cultural Heritage Text</h3>\n",
    "<br/>\n",
    "<h4>Elli Bleeker, Bram Buitendijk, Ronald Haentjens Dekker\n",
    "    <br/> ---\n",
    "    <br/>R&amp;D group, Royal Netherlands Academy of Arts and Sciences - Humanities Cluster</h4>\n",
    "    <h6>Computational Humanities Research workshop, November 18-20, 2020</h6>\n",
    "<img width=\"100\" height=\"100\" src=\"images/CC-BY_icon.svg.png\">\n",
    "</div>"
   ]
  },
  {
   "cell_type": "markdown",
   "metadata": {
    "slideshow": {
     "slide_type": "notes"
    }
   },
   "source": [
    "The background / context of our research: digital scholarly editing:"
   ]
  },
  {
   "cell_type": "markdown",
   "metadata": {
    "slideshow": {
     "slide_type": "slide"
    }
   },
   "source": [
    "# Digital scholarly editing in the 2020s\n",
    "\n",
    "### XML for text modeling\n",
    "- Data model: single rooted tree\n",
    "- Standard: Text Encoding Initiative (TEI) Guidelines with modules for different perspectives\n"
   ]
  },
  {
   "cell_type": "markdown",
   "metadata": {
    "slideshow": {
     "slide_type": "fragment"
    }
   },
   "source": [
    "- Modeling challenges: \n",
    "    - Overlapping and/or nonlinear structures\n",
    "    - Exchanging and/or repurposing TEI-encoded text files"
   ]
  },
  {
   "cell_type": "markdown",
   "metadata": {
    "slideshow": {
     "slide_type": "fragment"
    }
   },
   "source": [
    "- Digital editions primarily to _publish_ a text"
   ]
  },
  {
   "cell_type": "markdown",
   "metadata": {
    "slideshow": {
     "slide_type": "subslide"
    }
   },
   "source": [
    "# Scholarly editing #goals in the 2020s\n",
    "\n",
    "- Modeling cultural heritage texts from different research perspectives\n",
    "- Modeling overlapping, nonlinear or discontinuous structures;\n",
    "- Easy exchange / reuse of TEI-encoded text files;\n",
    "- Digital edition as a flexible research environment."
   ]
  },
  {
   "cell_type": "markdown",
   "metadata": {
    "slideshow": {
     "slide_type": "subslide"
    }
   },
   "source": [
    "# TAG project\n",
    "\n",
    "Running (since 2017) at the R&D group of the Royal Netherlands Academy of Arts and Sciences\n",
    "\n",
    "### Research question\n",
    "How can we effectively support _and advance_ the research of a scholarly editor using computational methods?"
   ]
  },
  {
   "cell_type": "markdown",
   "metadata": {
    "slideshow": {
     "slide_type": "fragment"
    }
   },
   "source": [
    "### Approach\n",
    "1. Model the editorial workflow as a computational pipeline;\n",
    "2. Handle individual steps rather than the whole pipeline at once;\n",
    "3. Decide whether a step can be automated or whether editorial (human) input is required"
   ]
  },
  {
   "cell_type": "markdown",
   "metadata": {
    "slideshow": {
     "slide_type": "subslide"
    }
   },
   "source": [
    "### Workflow of the scholarly editor\n",
    "<img src=\"images/CHR2020-conceptual-workflow.png\">"
   ]
  },
  {
   "cell_type": "markdown",
   "metadata": {
    "slideshow": {
     "slide_type": "subslide"
    }
   },
   "source": [
    "<img src=\"images/CHR2020-conceptual-workflow2.png\">"
   ]
  },
  {
   "cell_type": "markdown",
   "metadata": {
    "slideshow": {
     "slide_type": "slide"
    }
   },
   "source": [
    "## Encoding\n",
    "\n",
    "How can scholarly editors model a text from different research perspectives, producing a result that can be easily repurposed?"
   ]
  },
  {
   "cell_type": "markdown",
   "metadata": {
    "slideshow": {
     "slide_type": "fragment"
    }
   },
   "source": [
    "- \"Flexibility\": TAGML to model the text as a hypergraph, supporting overlapping, nonlinear and discontinuous structures\n",
    "- \"Universality\": user-guided TAGML to XML export"
   ]
  },
  {
   "cell_type": "markdown",
   "metadata": {
    "slideshow": {
     "slide_type": "notes"
    }
   },
   "source": [
    "Best of both worlds: TAGML offers the most flexibility in text modeling; while XML offers the universality in that most text analysis and publication tools accept XML as input format. "
   ]
  },
  {
   "cell_type": "markdown",
   "metadata": {
    "slideshow": {
     "slide_type": "subslide"
    }
   },
   "source": [
    "## TAG\n",
    "\n",
    "- Datamodel: Multi-Colored Tree (MCT)\n",
    "- \n",
    "Relevant functionalities:\n",
    "\n",
    "### Layers\n",
    "- Sets of markup elements;\n",
    "- Markup elements are hierarchically ordered"
   ]
  },
  {
   "cell_type": "code",
   "execution_count": null,
   "metadata": {},
   "outputs": [],
   "source": []
  }
 ],
 "metadata": {
  "celltoolbar": "Slideshow",
  "kernelspec": {
   "display_name": "Kotlin",
   "language": "kotlin",
   "name": "kotlin"
  },
  "language_info": {
   "codemirror_mode": "text/x-kotlin",
   "file_extension": ".kt",
   "mimetype": "text/x-kotlin",
   "name": "kotlin",
   "pygments_lexer": "kotlin",
   "version": "1.4.20-dev-2342"
  }
 },
 "nbformat": 4,
 "nbformat_minor": 4
}

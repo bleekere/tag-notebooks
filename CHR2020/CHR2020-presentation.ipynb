{
 "cells": [
  {
   "cell_type": "markdown",
   "metadata": {
    "slideshow": {
     "slide_type": "slide"
    }
   },
   "source": [
    "<div align=\"center\"><h1>Between Flexibility and Universality</h1>\n",
    "<h3>Combining TAGML and XML to Enhance the Modeling of Cultural Heritage Text</h3>\n",
    "<br/>\n",
    "<h4>Elli Bleeker, Bram Buitendijk, Ronald Haentjens Dekker\n",
    "    <br/> ---\n",
    "    <br/>R&amp;D group, Royal Netherlands Academy of Arts and Sciences - Humanities Cluster</h4>\n",
    "    <h6>Computational Humanities Research workshop, November 18-20, 2020</h6>\n",
    "<img width=\"100\" height=\"100\" src=\"images/CC-BY_icon.svg.png\">\n",
    "</div>"
   ]
  },
  {
   "cell_type": "markdown",
   "metadata": {
    "slideshow": {
     "slide_type": "notes"
    }
   },
   "source": [
    "The background / context of our research: digital scholarly editing:"
   ]
  },
  {
   "cell_type": "markdown",
   "metadata": {
    "slideshow": {
     "slide_type": "slide"
    }
   },
   "source": [
    "# Digital scholarly editing in the 2020s\n",
    "\n",
    "### XML for text modeling\n",
    "- Data model: single rooted tree\n",
    "- Standard: Text Encoding Initiative (TEI) Guidelines with modules for different perspectives\n"
   ]
  },
  {
   "cell_type": "markdown",
   "metadata": {
    "slideshow": {
     "slide_type": "fragment"
    }
   },
   "source": [
    "- Modeling challenges: \n",
    "    - Overlapping and/or nonlinear structures\n",
    "    - Exchanging and/or repurposing TEI-encoded text files"
   ]
  },
  {
   "cell_type": "markdown",
   "metadata": {
    "slideshow": {
     "slide_type": "fragment"
    }
   },
   "source": [
    "- Digital editions primarily to _publish_ a text"
   ]
  },
  {
   "cell_type": "markdown",
   "metadata": {
    "slideshow": {
     "slide_type": "subslide"
    }
   },
   "source": [
    "# Scholarly editing in the 2020s\n",
    "\n",
    "## #goals:\n",
    "\n",
    "- Modeling cultural heritage texts from different research perspectives\n",
    "- Modeling overlapping, nonlinear or discontinuous structures;\n",
    "- Easy exchange / reuse of TEI-encoded text files;\n",
    "- Digital edition as a flexible research environment."
   ]
  },
  {
   "cell_type": "markdown",
   "metadata": {
    "slideshow": {
     "slide_type": "slide"
    }
   },
   "source": [
    "# Text-As-Graph project\n",
    "\n",
    "- Running (since 2017) at the R&D group of the Royal Netherlands Academy of Arts and Sciences;\n",
    "- Datamodel: Multi-Colored Tree (MCT)\n",
    "- Reference implementation: _Alexandria_ (executes on the command line);\n",
    "- Syntax: TAGML."
   ]
  },
  {
   "cell_type": "markdown",
   "metadata": {
    "slideshow": {
     "slide_type": "subslide"
    }
   },
   "source": [
    "### Research question\n",
    "How can we effectively support _and advance_ the research of a scholarly editor using computational methods?"
   ]
  },
  {
   "cell_type": "markdown",
   "metadata": {
    "slideshow": {
     "slide_type": "fragment"
    }
   },
   "source": [
    "### Approach\n",
    "1. Model the editorial workflow as a computational pipeline;\n",
    "2. Handle individual steps rather than the whole pipeline at once;\n",
    "3. Decide whether a step can be automated or whether editorial (human) input is required"
   ]
  },
  {
   "cell_type": "markdown",
   "metadata": {
    "slideshow": {
     "slide_type": "subslide"
    }
   },
   "source": [
    "### Workflow of the scholarly editor\n",
    "<img src=\"images/CHR2020-conceptual-workflow.png\">"
   ]
  },
  {
   "cell_type": "markdown",
   "metadata": {
    "slideshow": {
     "slide_type": "subslide"
    }
   },
   "source": [
    "<img src=\"images/CHR2020-conceptual-workflow_2.png\">"
   ]
  },
  {
   "cell_type": "markdown",
   "metadata": {
    "slideshow": {
     "slide_type": "slide"
    }
   },
   "source": [
    "## Encoding\n",
    "\n",
    "How can scholarly editors model a text from different research perspectives, producing a result that can be easily repurposed?"
   ]
  },
  {
   "cell_type": "markdown",
   "metadata": {
    "slideshow": {
     "slide_type": "fragment"
    }
   },
   "source": [
    "- \"Flexible\": TAGML to model the text as a hypergraph, supporting overlapping, nonlinear and discontinuous structures\n",
    "- \"Universal\": user-guided TAGML to XML export"
   ]
  },
  {
   "cell_type": "markdown",
   "metadata": {
    "slideshow": {
     "slide_type": "notes"
    }
   },
   "source": [
    "What we propose can be considered \"the best of both worlds\": TAGML offers the most flexibility in text modeling; while XML offers the universality in that most text analysis and publication tools accept XML as input format. "
   ]
  },
  {
   "cell_type": "markdown",
   "metadata": {
    "slideshow": {
     "slide_type": "fragment"
    }
   },
   "source": [
    "Relevant functionalities of TAGML:\n",
    "\n",
    "### Layers\n",
    "- Sets of markup elements;\n",
    "- Markup elements are hierarchically ordered within each layer;\n",
    "- Layers can overlap\n",
    "\n",
    "### Views\n",
    "- JSON documents describing which markup elements and/or layers to show;\n",
    "- Filter the information from a TAGML document "
   ]
  },
  {
   "cell_type": "markdown",
   "metadata": {
    "slideshow": {
     "slide_type": "notes"
    }
   },
   "source": [
    "With the filtering function of the views, users can _filter_ the (information-rich) TAGML documents:"
   ]
  },
  {
   "cell_type": "markdown",
   "metadata": {
    "slideshow": {
     "slide_type": "subslide"
    }
   },
   "source": [
    "<img src=\"images/workflow-alexandria-CHR2020.png\">"
   ]
  },
  {
   "cell_type": "markdown",
   "metadata": {},
   "source": [
    "<img src=\"images/workflow-alexandria-CHR2020_2.png\">"
   ]
  },
  {
   "cell_type": "markdown",
   "metadata": {
    "slideshow": {
     "slide_type": "subslide"
    }
   },
   "source": [
    "[[ image of export process ]]"
   ]
  },
  {
   "cell_type": "markdown",
   "metadata": {
    "slideshow": {
     "slide_type": "subslide"
    }
   },
   "source": [
    "## TAGML-to-XML export\n",
    "\n",
    "Converting TAGML to XML implies converting a Multi-Colored Tree with (potentially) overlapping structures to a single-rooted tree."
   ]
  },
  {
   "cell_type": "markdown",
   "metadata": {
    "slideshow": {
     "slide_type": "fragment"
    }
   },
   "source": [
    "- User-guided export: what to filter out, what information to keep, which hierarchy is leading?\n",
    "- Selected elements that do not belong to the leading hierarchy are transformed into Trojan Horse elements"
   ]
  },
  {
   "cell_type": "markdown",
   "metadata": {
    "slideshow": {
     "slide_type": "notes"
    }
   },
   "source": [
    "[[switch to demo]]"
   ]
  },
  {
   "cell_type": "markdown",
   "metadata": {
    "slideshow": {
     "slide_type": "slide"
    }
   },
   "source": [
    "# Recap\n",
    "\n",
    "- Editorial workflow is conceptualized as a computational pipeline;\n",
    "- Components of the pipeline are addressed individually, for example:\n",
    "    - Cultural heritage texts are **encoded** in TAGML and **exported** to XML;\n",
    "- Editors can guide the export process to fit their research interests."
   ]
  },
  {
   "cell_type": "markdown",
   "metadata": {
    "slideshow": {
     "slide_type": "slide"
    }
   },
   "source": [
    "# More information:\n",
    "\n",
    "- mail us! \n",
    "- check out the TAG website: https://huygensing.github.io/TAG/\n",
    "- take a look at our previous presentations / papers: https://github.com/HuygensING/TAG#presentations-and-publications"
   ]
  },
  {
   "cell_type": "code",
   "execution_count": null,
   "metadata": {},
   "outputs": [],
   "source": []
  }
 ],
 "metadata": {
  "celltoolbar": "Slideshow",
  "kernelspec": {
   "display_name": "Kotlin",
   "language": "kotlin",
   "name": "kotlin"
  },
  "language_info": {
   "codemirror_mode": "text/x-kotlin",
   "file_extension": ".kt",
   "mimetype": "text/x-kotlin",
   "name": "kotlin",
   "pygments_lexer": "kotlin",
   "version": "1.4.20-dev-2342"
  }
 },
 "nbformat": 4,
 "nbformat_minor": 4
}
